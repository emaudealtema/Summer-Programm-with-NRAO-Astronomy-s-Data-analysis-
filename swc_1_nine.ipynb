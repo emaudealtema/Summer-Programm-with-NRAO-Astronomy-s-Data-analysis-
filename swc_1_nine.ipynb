{
  "nbformat": 4,
  "nbformat_minor": 0,
  "metadata": {
    "colab": {
      "name": "swc_1_nine.ipynb",
      "provenance": []
    },
    "kernelspec": {
      "name": "python3",
      "display_name": "Python 3"
    },
    "language_info": {
      "name": "python"
    }
  },
  "cells": [
    {
      "cell_type": "code",
      "metadata": {
        "id": "Ct1K1srRwP2_"
      },
      "source": [
        "# in this cell I only import the libraries I will use in this notebook\n",
        "import numpy as np\n",
        "import matplotlib.pyplot as plt\n",
        "import pandas as pd\n"
      ],
      "execution_count": 109,
      "outputs": []
    },
    {
      "cell_type": "code",
      "metadata": {
        "id": "GsluqMMDwkLL"
      },
      "source": [
        "# I first upload my dataset into my drive and here I creat a variable named data and I pass my data using loadtxt a numpy function \n",
        "data= np.loadtxt(fname='/content/drive/MyDrive/swc-python/data/03D1ar.csv', delimiter=',', skiprows=1)"
      ],
      "execution_count": 110,
      "outputs": []
    },
    {
      "cell_type": "code",
      "metadata": {
        "colab": {
          "base_uri": "https://localhost:8080/"
        },
        "id": "sii3ozL4zffV",
        "outputId": "486c6ed8-7646-4ed2-da95-5402f86be596"
      },
      "source": [
        "#Here I print out the content of my variable data\n",
        "print(data)"
      ],
      "execution_count": 111,
      "outputs": [
        {
          "output_type": "stream",
          "text": [
            "[[ 5.28805e+04  1.30350e+01  5.42460e+00          nan          nan\n",
            "           nan          nan          nan          nan]\n",
            " [ 5.28815e+04          nan          nan  7.02820e+00  9.91050e+00\n",
            "   1.61570e+01  1.86290e+01  2.20860e+01  7.19510e+01]\n",
            " [ 5.28866e+04          nan          nan          nan          nan\n",
            "   1.89440e+02  1.98550e+01          nan          nan]\n",
            " [ 5.29005e+04  1.42800e+02  1.49700e+01  4.57050e+02  1.69190e+01\n",
            "   6.54020e+02  2.32020e+01  5.72040e+02  8.95940e+01]\n",
            " [ 5.29045e+04          nan          nan  3.99370e+02  1.29070e+01\n",
            "   6.94110e+02  1.77100e+01          nan          nan]\n",
            " [ 5.29046e+04  1.14730e+02  7.55460e+00          nan          nan\n",
            "           nan          nan          nan          nan]\n",
            " [ 5.29085e+04  8.49230e+01  7.51630e+00  3.84570e+02  1.27970e+01\n",
            "           nan          nan          nan          nan]\n",
            " [ 5.29086e+04          nan          nan          nan          nan\n",
            "   6.04660e+02  2.04640e+01          nan          nan]\n",
            " [ 5.29096e+04          nan          nan          nan          nan\n",
            "           nan          nan  6.69740e+02  8.09650e+01]\n",
            " [ 5.29124e+04          nan          nan          nan          nan\n",
            "   5.70830e+02  1.95730e+01          nan          nan]\n",
            " [ 5.29145e+04          nan          nan  2.09340e+02  2.16740e+01\n",
            "           nan          nan          nan          nan]\n",
            " [ 5.29156e+04          nan          nan          nan          nan\n",
            "   5.06010e+02  2.51400e+01          nan          nan]\n",
            " [ 5.29164e+04          nan          nan  2.70660e+02  1.29090e+01\n",
            "           nan          nan          nan          nan]\n",
            " [ 5.29294e+04          nan          nan          nan          nan\n",
            "   2.75090e+02  3.12060e+01          nan          nan]\n",
            " [ 5.29295e+04          nan          nan -3.35120e+00  4.39170e+01\n",
            "           nan          nan          nan          nan]\n",
            " [ 5.29303e+04  3.33880e+00  7.37510e+00  5.51020e+01  1.89270e+01\n",
            "           nan          nan          nan          nan]\n",
            " [ 5.29304e+04          nan          nan          nan          nan\n",
            "           nan          nan  1.68180e+02  8.06570e+01]\n",
            " [ 5.29334e+04          nan          nan          nan          nan\n",
            "   2.64740e+02  1.63790e+01          nan          nan]\n",
            " [ 5.29335e+04          nan          nan  1.24940e+01  2.44450e+01\n",
            "           nan          nan          nan          nan]\n",
            " [ 5.29345e+04  1.42040e+01  4.96120e+00  5.07320e+01  1.13540e+01\n",
            "           nan          nan          nan          nan]\n",
            " [ 5.29374e+04          nan          nan          nan          nan\n",
            "   1.90610e+02  1.57770e+01          nan          nan]\n",
            " [ 5.29375e+04  2.00150e+01  9.64280e+00  4.08980e+01  1.73320e+01\n",
            "           nan          nan          nan          nan]\n",
            " [ 5.29385e+04          nan          nan          nan          nan\n",
            "           nan          nan  4.64250e+02  8.54250e+01]\n",
            " [ 5.29424e+04          nan          nan          nan          nan\n",
            "   1.54800e+02  2.44570e+01          nan          nan]\n",
            " [ 5.29443e+04  4.88120e-01  1.19510e+01          nan          nan\n",
            "   1.62780e+02  1.98010e+01          nan          nan]\n",
            " [ 5.29444e+04          nan          nan  3.01230e+01  1.53010e+01\n",
            "           nan          nan  1.40270e+02  6.78910e+01]\n",
            " [ 5.29613e+04          nan          nan          nan          nan\n",
            "   5.49180e+01  2.63640e+01          nan          nan]\n",
            " [ 5.29614e+04 -2.55290e+01  1.13880e+01 -5.74510e+00  2.05650e+01\n",
            "           nan          nan          nan          nan]\n",
            " [ 5.29623e+04          nan          nan          nan          nan\n",
            "           nan          nan  1.19740e+02  6.76970e+01]\n",
            " [ 5.29643e+04 -7.31880e+00  9.57790e+00          nan          nan\n",
            "   1.04970e+02  2.18940e+01          nan          nan]\n",
            " [ 5.29644e+04          nan          nan  4.14030e+01  1.96080e+01\n",
            "           nan          nan  4.28490e+01  1.54580e+02]\n",
            " [ 5.29683e+04          nan          nan -1.97020e+01  2.06090e+01\n",
            "           nan          nan          nan          nan]\n",
            " [ 5.29722e+04          nan          nan          nan          nan\n",
            "   1.32510e+02  3.50200e+01          nan          nan]\n",
            " [ 5.29902e+04          nan          nan          nan          nan\n",
            "   6.97320e+01  2.28810e+01          nan          nan]\n",
            " [ 5.29903e+04          nan          nan -9.92210e+00  1.74310e+01\n",
            "           nan          nan          nan          nan]\n",
            " [ 5.29922e+04          nan          nan  8.95660e+00  1.43140e+01\n",
            "   3.43520e+01  2.24730e+01          nan          nan]\n",
            " [ 5.29923e+04 -2.89000e+01  8.84530e+00          nan          nan\n",
            "           nan          nan          nan          nan]\n",
            " [ 5.29953e+04          nan          nan  3.01030e+01  1.36230e+01\n",
            "   2.93950e+01  2.03360e+01          nan          nan]\n",
            " [ 5.29992e+04          nan          nan -3.38060e+00  1.24450e+01\n",
            "   8.17990e+00  2.08520e+01          nan          nan]\n",
            " [ 5.29993e+04 -6.62620e+00  7.99230e+00          nan          nan\n",
            "           nan          nan -1.17010e+02  1.16900e+02]\n",
            " [ 5.30002e+04          nan          nan          nan          nan\n",
            "           nan          nan  4.44460e+01  5.69220e+01]\n",
            " [ 5.30182e+04          nan          nan          nan          nan\n",
            "   4.38750e+01  1.86820e+01          nan          nan]\n",
            " [ 5.30183e+04          nan          nan  1.33720e+01  1.66490e+01\n",
            "           nan          nan          nan          nan]\n",
            " [ 5.30222e+04          nan          nan          nan          nan\n",
            "   1.64780e+01  2.63130e+01          nan          nan]\n",
            " [ 5.30223e+04          nan          nan  3.89090e+01  3.70090e+01\n",
            "           nan          nan          nan          nan]\n",
            " [ 5.30232e+04          nan          nan  1.26950e+01  1.10600e+01\n",
            "           nan          nan          nan          nan]\n",
            " [ 5.30262e+04          nan          nan          nan          nan\n",
            "   5.10690e+01  2.02770e+01          nan          nan]\n",
            " [ 5.30263e+04          nan          nan  6.58160e+00  1.16650e+01\n",
            "           nan          nan          nan          nan]]\n"
          ],
          "name": "stdout"
        }
      ]
    },
    {
      "cell_type": "code",
      "metadata": {
        "colab": {
          "base_uri": "https://localhost:8080/"
        },
        "id": "IYAa4XOq0Z1R",
        "outputId": "716a6e26-bd54-4792-f837-17409f926f31"
      },
      "source": [
        "# to show the type of the data\n",
        "print(type(data))"
      ],
      "execution_count": 112,
      "outputs": [
        {
          "output_type": "stream",
          "text": [
            "<class 'numpy.ndarray'>\n"
          ],
          "name": "stdout"
        }
      ]
    },
    {
      "cell_type": "code",
      "metadata": {
        "colab": {
          "base_uri": "https://localhost:8080/"
        },
        "id": "Ne_wjFXv0i1g",
        "outputId": "a4029b04-498f-4440-8f72-c7864dac91e4"
      },
      "source": [
        "# shape function shows the number of lines or column that tha dataset has\n",
        "print(data.shape)"
      ],
      "execution_count": 113,
      "outputs": [
        {
          "output_type": "stream",
          "text": [
            "(48, 9)\n"
          ],
          "name": "stdout"
        }
      ]
    },
    {
      "cell_type": "code",
      "metadata": {
        "colab": {
          "base_uri": "https://localhost:8080/"
        },
        "id": "ykgpopk51swj",
        "outputId": "2df5ef37-f0bd-404b-dc7a-c2beee560d2d"
      },
      "source": [
        "print('first value in data:', data[0, 0])\n"
      ],
      "execution_count": 114,
      "outputs": [
        {
          "output_type": "stream",
          "text": [
            "first value in data: 52880.5\n"
          ],
          "name": "stdout"
        }
      ]
    },
    {
      "cell_type": "code",
      "metadata": {
        "colab": {
          "base_uri": "https://localhost:8080/"
        },
        "id": "SHzoupQX-gjf",
        "outputId": "a07e7cbf-f1c7-48c5-8b24-4bf415fc36fe"
      },
      "source": [
        "print('last value in data:', data[47, 8])"
      ],
      "execution_count": 115,
      "outputs": [
        {
          "output_type": "stream",
          "text": [
            "last value in data: nan\n"
          ],
          "name": "stdout"
        }
      ]
    },
    {
      "cell_type": "code",
      "metadata": {
        "colab": {
          "base_uri": "https://localhost:8080/"
        },
        "id": "Abjk9NW0DTT5",
        "outputId": "e400a2b8-fb05-4299-d18c-a9091eb58d39"
      },
      "source": [
        "#Print out the last value of our data remember we have 48 rows and Python start indexing from 0 so 0 - 47 will give 48 rows and 0 - 9 will give 9 columns\n",
        "print('Last value in data:', data[47, 8])"
      ],
      "execution_count": 116,
      "outputs": [
        {
          "output_type": "stream",
          "text": [
            "Last value in data: nan\n"
          ],
          "name": "stdout"
        }
      ]
    },
    {
      "cell_type": "code",
      "metadata": {
        "colab": {
          "base_uri": "https://localhost:8080/"
        },
        "id": "IEwEiU7WDXsF",
        "outputId": "ad0c6a3b-aaae-432d-f349-f8a104ad187a"
      },
      "source": [
        "# print out the first ten daoys columns and  five rows starting from row 5 to row 10\n",
        "print(data[5:10, 0:9])"
      ],
      "execution_count": 117,
      "outputs": [
        {
          "output_type": "stream",
          "text": [
            "[[5.29046e+04 1.14730e+02 7.55460e+00         nan         nan         nan\n",
            "          nan         nan         nan]\n",
            " [5.29085e+04 8.49230e+01 7.51630e+00 3.84570e+02 1.27970e+01         nan\n",
            "          nan         nan         nan]\n",
            " [5.29086e+04         nan         nan         nan         nan 6.04660e+02\n",
            "  2.04640e+01         nan         nan]\n",
            " [5.29096e+04         nan         nan         nan         nan         nan\n",
            "          nan 6.69740e+02 8.09650e+01]\n",
            " [5.29124e+04         nan         nan         nan         nan 5.70830e+02\n",
            "  1.95730e+01         nan         nan]]\n"
          ],
          "name": "stdout"
        }
      ]
    },
    {
      "cell_type": "code",
      "metadata": {
        "colab": {
          "base_uri": "https://localhost:8080/"
        },
        "id": "z6v-480iEggJ",
        "outputId": "ac533f39-17a2-4209-d1d6-25b596d7bf5e"
      },
      "source": [
        "small = data[:3, 7:]\n",
        "print(\"small is:\", + small)\n"
      ],
      "execution_count": 118,
      "outputs": [
        {
          "output_type": "stream",
          "text": [
            "small is: [[   nan    nan]\n",
            " [22.086 71.951]\n",
            " [   nan    nan]]\n"
          ],
          "name": "stdout"
        }
      ]
    },
    {
      "cell_type": "code",
      "metadata": {
        "id": "-ozup2mHId1X"
      },
      "source": [
        "# We double the values of our array and put the content in a variable named doubledata\n",
        "doubledata = data * 2.0"
      ],
      "execution_count": 119,
      "outputs": []
    },
    {
      "cell_type": "code",
      "metadata": {
        "colab": {
          "base_uri": "https://localhost:8080/"
        },
        "id": "9CgAYimsJNGB",
        "outputId": "40a288c1-6210-4a9f-c2e5-791522675e6e"
      },
      "source": [
        "print(doubledata)"
      ],
      "execution_count": 120,
      "outputs": [
        {
          "output_type": "stream",
          "text": [
            "[[ 1.057610e+05  2.607000e+01  1.084920e+01           nan           nan\n",
            "            nan           nan           nan           nan]\n",
            " [ 1.057630e+05           nan           nan  1.405640e+01  1.982100e+01\n",
            "   3.231400e+01  3.725800e+01  4.417200e+01  1.439020e+02]\n",
            " [ 1.057732e+05           nan           nan           nan           nan\n",
            "   3.788800e+02  3.971000e+01           nan           nan]\n",
            " [ 1.058010e+05  2.856000e+02  2.994000e+01  9.141000e+02  3.383800e+01\n",
            "   1.308040e+03  4.640400e+01  1.144080e+03  1.791880e+02]\n",
            " [ 1.058090e+05           nan           nan  7.987400e+02  2.581400e+01\n",
            "   1.388220e+03  3.542000e+01           nan           nan]\n",
            " [ 1.058092e+05  2.294600e+02  1.510920e+01           nan           nan\n",
            "            nan           nan           nan           nan]\n",
            " [ 1.058170e+05  1.698460e+02  1.503260e+01  7.691400e+02  2.559400e+01\n",
            "            nan           nan           nan           nan]\n",
            " [ 1.058172e+05           nan           nan           nan           nan\n",
            "   1.209320e+03  4.092800e+01           nan           nan]\n",
            " [ 1.058192e+05           nan           nan           nan           nan\n",
            "            nan           nan  1.339480e+03  1.619300e+02]\n",
            " [ 1.058248e+05           nan           nan           nan           nan\n",
            "   1.141660e+03  3.914600e+01           nan           nan]\n",
            " [ 1.058290e+05           nan           nan  4.186800e+02  4.334800e+01\n",
            "            nan           nan           nan           nan]\n",
            " [ 1.058312e+05           nan           nan           nan           nan\n",
            "   1.012020e+03  5.028000e+01           nan           nan]\n",
            " [ 1.058328e+05           nan           nan  5.413200e+02  2.581800e+01\n",
            "            nan           nan           nan           nan]\n",
            " [ 1.058588e+05           nan           nan           nan           nan\n",
            "   5.501800e+02  6.241200e+01           nan           nan]\n",
            " [ 1.058590e+05           nan           nan -6.702400e+00  8.783400e+01\n",
            "            nan           nan           nan           nan]\n",
            " [ 1.058606e+05  6.677600e+00  1.475020e+01  1.102040e+02  3.785400e+01\n",
            "            nan           nan           nan           nan]\n",
            " [ 1.058608e+05           nan           nan           nan           nan\n",
            "            nan           nan  3.363600e+02  1.613140e+02]\n",
            " [ 1.058668e+05           nan           nan           nan           nan\n",
            "   5.294800e+02  3.275800e+01           nan           nan]\n",
            " [ 1.058670e+05           nan           nan  2.498800e+01  4.889000e+01\n",
            "            nan           nan           nan           nan]\n",
            " [ 1.058690e+05  2.840800e+01  9.922400e+00  1.014640e+02  2.270800e+01\n",
            "            nan           nan           nan           nan]\n",
            " [ 1.058748e+05           nan           nan           nan           nan\n",
            "   3.812200e+02  3.155400e+01           nan           nan]\n",
            " [ 1.058750e+05  4.003000e+01  1.928560e+01  8.179600e+01  3.466400e+01\n",
            "            nan           nan           nan           nan]\n",
            " [ 1.058770e+05           nan           nan           nan           nan\n",
            "            nan           nan  9.285000e+02  1.708500e+02]\n",
            " [ 1.058848e+05           nan           nan           nan           nan\n",
            "   3.096000e+02  4.891400e+01           nan           nan]\n",
            " [ 1.058886e+05  9.762400e-01  2.390200e+01           nan           nan\n",
            "   3.255600e+02  3.960200e+01           nan           nan]\n",
            " [ 1.058888e+05           nan           nan  6.024600e+01  3.060200e+01\n",
            "            nan           nan  2.805400e+02  1.357820e+02]\n",
            " [ 1.059226e+05           nan           nan           nan           nan\n",
            "   1.098360e+02  5.272800e+01           nan           nan]\n",
            " [ 1.059228e+05 -5.105800e+01  2.277600e+01 -1.149020e+01  4.113000e+01\n",
            "            nan           nan           nan           nan]\n",
            " [ 1.059246e+05           nan           nan           nan           nan\n",
            "            nan           nan  2.394800e+02  1.353940e+02]\n",
            " [ 1.059286e+05 -1.463760e+01  1.915580e+01           nan           nan\n",
            "   2.099400e+02  4.378800e+01           nan           nan]\n",
            " [ 1.059288e+05           nan           nan  8.280600e+01  3.921600e+01\n",
            "            nan           nan  8.569800e+01  3.091600e+02]\n",
            " [ 1.059366e+05           nan           nan -3.940400e+01  4.121800e+01\n",
            "            nan           nan           nan           nan]\n",
            " [ 1.059444e+05           nan           nan           nan           nan\n",
            "   2.650200e+02  7.004000e+01           nan           nan]\n",
            " [ 1.059804e+05           nan           nan           nan           nan\n",
            "   1.394640e+02  4.576200e+01           nan           nan]\n",
            " [ 1.059806e+05           nan           nan -1.984420e+01  3.486200e+01\n",
            "            nan           nan           nan           nan]\n",
            " [ 1.059844e+05           nan           nan  1.791320e+01  2.862800e+01\n",
            "   6.870400e+01  4.494600e+01           nan           nan]\n",
            " [ 1.059846e+05 -5.780000e+01  1.769060e+01           nan           nan\n",
            "            nan           nan           nan           nan]\n",
            " [ 1.059906e+05           nan           nan  6.020600e+01  2.724600e+01\n",
            "   5.879000e+01  4.067200e+01           nan           nan]\n",
            " [ 1.059984e+05           nan           nan -6.761200e+00  2.489000e+01\n",
            "   1.635980e+01  4.170400e+01           nan           nan]\n",
            " [ 1.059986e+05 -1.325240e+01  1.598460e+01           nan           nan\n",
            "            nan           nan -2.340200e+02  2.338000e+02]\n",
            " [ 1.060004e+05           nan           nan           nan           nan\n",
            "            nan           nan  8.889200e+01  1.138440e+02]\n",
            " [ 1.060364e+05           nan           nan           nan           nan\n",
            "   8.775000e+01  3.736400e+01           nan           nan]\n",
            " [ 1.060366e+05           nan           nan  2.674400e+01  3.329800e+01\n",
            "            nan           nan           nan           nan]\n",
            " [ 1.060444e+05           nan           nan           nan           nan\n",
            "   3.295600e+01  5.262600e+01           nan           nan]\n",
            " [ 1.060446e+05           nan           nan  7.781800e+01  7.401800e+01\n",
            "            nan           nan           nan           nan]\n",
            " [ 1.060464e+05           nan           nan  2.539000e+01  2.212000e+01\n",
            "            nan           nan           nan           nan]\n",
            " [ 1.060524e+05           nan           nan           nan           nan\n",
            "   1.021380e+02  4.055400e+01           nan           nan]\n",
            " [ 1.060526e+05           nan           nan  1.316320e+01  2.333000e+01\n",
            "            nan           nan           nan           nan]]\n"
          ],
          "name": "stdout"
        }
      ]
    },
    {
      "cell_type": "code",
      "metadata": {
        "colab": {
          "base_uri": "https://localhost:8080/"
        },
        "id": "RuvfNb1GJRgi",
        "outputId": "817c570c-b7b0-4eab-8633-4fc730c78298"
      },
      "source": [
        "print('original data:')\n",
        "print(data[:3, 7:])\n",
        "print('data we double:')\n",
        "print(doubledata[:3, 7:])"
      ],
      "execution_count": 121,
      "outputs": [
        {
          "output_type": "stream",
          "text": [
            "original data:\n",
            "[[   nan    nan]\n",
            " [22.086 71.951]\n",
            " [   nan    nan]]\n",
            "data we double:\n",
            "[[    nan     nan]\n",
            " [ 44.172 143.902]\n",
            " [    nan     nan]]\n"
          ],
          "name": "stdout"
        }
      ]
    },
    {
      "cell_type": "code",
      "metadata": {
        "id": "6lJU-JHULRC_"
      },
      "source": [
        "# we can triple our data from here we we two options to do that; create a variable ex\": tripledata = doubledata + data or tripledata = data *3.0\n",
        "tripledata = doubledata + data"
      ],
      "execution_count": 122,
      "outputs": []
    },
    {
      "cell_type": "code",
      "metadata": {
        "colab": {
          "base_uri": "https://localhost:8080/"
        },
        "id": "XtK8JCrhMbak",
        "outputId": "d30d60d9-36f9-42e6-a2f0-2db24d3f017f"
      },
      "source": [
        "print(tripledata[:3, 7:])\n"
      ],
      "execution_count": 123,
      "outputs": [
        {
          "output_type": "stream",
          "text": [
            "[[    nan     nan]\n",
            " [ 66.258 215.853]\n",
            " [    nan     nan]]\n"
          ],
          "name": "stdout"
        }
      ]
    },
    {
      "cell_type": "code",
      "metadata": {
        "colab": {
          "base_uri": "https://localhost:8080/"
        },
        "id": "jSj36ixzMesj",
        "outputId": "46bffbbf-f24f-4e1e-c6c1-00167f48ed69"
      },
      "source": [
        "print('original data:')\n",
        "print(data[:3, 7:])\n",
        "print('data we double:')\n",
        "print(doubledata[:3, 7:])\n",
        "print('data we triple:')\n",
        "print(tripledata[:3, 7:])"
      ],
      "execution_count": 124,
      "outputs": [
        {
          "output_type": "stream",
          "text": [
            "original data:\n",
            "[[   nan    nan]\n",
            " [22.086 71.951]\n",
            " [   nan    nan]]\n",
            "data we double:\n",
            "[[    nan     nan]\n",
            " [ 44.172 143.902]\n",
            " [    nan     nan]]\n",
            "data we triple:\n",
            "[[    nan     nan]\n",
            " [ 66.258 215.853]\n",
            " [    nan     nan]]\n"
          ],
          "name": "stdout"
        }
      ]
    },
    {
      "cell_type": "code",
      "metadata": {
        "colab": {
          "base_uri": "https://localhost:8080/"
        },
        "id": "mDIRmZxMM6i5",
        "outputId": "4b119497-2345-4f21-dd7a-6db128503406"
      },
      "source": [
        "#print the mean of g band\n",
        "print(np.mean(data[:,1]))"
      ],
      "execution_count": 125,
      "outputs": [
        {
          "output_type": "stream",
          "text": [
            "nan\n"
          ],
          "name": "stdout"
        }
      ]
    },
    {
      "cell_type": "code",
      "metadata": {
        "colab": {
          "base_uri": "https://localhost:8080/"
        },
        "id": "wpe_dOc2NZBx",
        "outputId": "330c6c0d-97cb-47d8-c91b-162f3a0475e9"
      },
      "source": [
        "# let's use nan mean function to avoid having a NaN as value for our mean\n",
        "print(np.nanmean(data[:,1]))"
      ],
      "execution_count": 126,
      "outputs": [
        {
          "output_type": "stream",
          "text": [
            "27.096660000000004\n"
          ],
          "name": "stdout"
        }
      ]
    },
    {
      "cell_type": "code",
      "metadata": {
        "colab": {
          "base_uri": "https://localhost:8080/"
        },
        "id": "xGrCz1-IOIFx",
        "outputId": "b85c6951-78f5-448e-c1ca-c4c76870c339"
      },
      "source": [
        "import time\n",
        "print(time.ctime())"
      ],
      "execution_count": 127,
      "outputs": [
        {
          "output_type": "stream",
          "text": [
            "Mon Jun 14 22:38:12 2021\n"
          ],
          "name": "stdout"
        }
      ]
    },
    {
      "cell_type": "code",
      "metadata": {
        "colab": {
          "base_uri": "https://localhost:8080/"
        },
        "id": "glHJpPY7Oahx",
        "outputId": "b73f85cd-6cbe-409f-cb57-c2ab402e74cc"
      },
      "source": [
        "# here we print ou the minimum and maximum brightness and the standard deviation in g band meanwhile we are avoiding our program to return a NaN \n",
        "maxval, minval, stdval = np.nanmax(data[:,1]), np.nanmin(data[:,1]), np.nanstd(data[:,1])\n",
        "\n",
        "print('maximum flux in g band:', maxval)\n",
        "print('minimum flux in g band:', minval)\n",
        "print('standard deviation in g band:', stdval)"
      ],
      "execution_count": 128,
      "outputs": [
        {
          "output_type": "stream",
          "text": [
            "maximum flux in g band: 142.8\n",
            "minimum flux in g band: -28.9\n",
            "standard deviation in g band: 53.4821178405979\n"
          ],
          "name": "stdout"
        }
      ]
    },
    {
      "cell_type": "code",
      "metadata": {
        "colab": {
          "base_uri": "https://localhost:8080/"
        },
        "id": "1u5wMcppRhFT",
        "outputId": "54b5f3ec-2e63-471d-eb61-2b408004f9c8"
      },
      "source": [
        "# here we print out everything on the first axis (rows), the second on the second axis (columns)\n",
        "Flux_g = data[:, 1] \n",
        "print('maximum flux in g band is:', np.nanmax(Flux_g))"
      ],
      "execution_count": 129,
      "outputs": [
        {
          "output_type": "stream",
          "text": [
            "maximum flux in g band is: 142.8\n"
          ],
          "name": "stdout"
        }
      ]
    },
    {
      "cell_type": "code",
      "metadata": {
        "colab": {
          "base_uri": "https://localhost:8080/"
        },
        "id": "usi4BQOOm3N3",
        "outputId": "b8eecb19-f4f4-41db-c074-a693609b1523"
      },
      "source": [
        "# here we print ou the minimum and maximum brightness and the standard deviation in r band meanwhile we are avoiding our program to return a NaN \n",
        "maxval, minval, stdval = np.nanmax(data[:,3]), np.nanmin(data[:,3]), np.nanstd(data[:,3])\n",
        "\n",
        "print('maximum flux in r band:', maxval)\n",
        "print('minimum flux in r band:', minval)\n",
        "print('standard deviation in r band:', stdval)"
      ],
      "execution_count": 130,
      "outputs": [
        {
          "output_type": "stream",
          "text": [
            "maximum flux in r band: 457.05\n",
            "minimum flux in r band: -19.702\n",
            "standard deviation in r band: 142.67780452639894\n"
          ],
          "name": "stdout"
        }
      ]
    },
    {
      "cell_type": "code",
      "metadata": {
        "colab": {
          "base_uri": "https://localhost:8080/"
        },
        "id": "RwvSFuPfpDDZ",
        "outputId": "e79ef510-eb17-4893-d4af-4010245ea34c"
      },
      "source": [
        "# # here we print out everything on the fourth axis (rows), the second on the second axis (columns)\n",
        "Flux_r = data[:, 3] \n",
        "print('maximum flux in r band is:', np.nanmax(Flux_r))"
      ],
      "execution_count": 131,
      "outputs": [
        {
          "output_type": "stream",
          "text": [
            "maximum flux in r band is: 457.05\n"
          ],
          "name": "stdout"
        }
      ]
    },
    {
      "cell_type": "code",
      "metadata": {
        "colab": {
          "base_uri": "https://localhost:8080/"
        },
        "id": "08bYVgb0nA43",
        "outputId": "939a146f-2025-43fb-f668-b51ab8c5062a"
      },
      "source": [
        "# here we print ou the minimum and maximum brightness and the standard deviation in i band meanwhile we are avoiding our program to return a NaN \n",
        "maxval, minval, stdval = np.nanmax(data[:,5]), np.nanmin(data[:,5]), np.nanstd(data[:,5])\n",
        "\n",
        "print('maximum flux in i band:', maxval)\n",
        "print('minimum flux in i band :', minval)\n",
        "print('standard deviation in i band:', stdval)"
      ],
      "execution_count": 132,
      "outputs": [
        {
          "output_type": "stream",
          "text": [
            "maximum flux in i band: 694.11\n",
            "minimum flux in i band : 8.1799\n",
            "standard deviation in i band: 224.54671928788747\n"
          ],
          "name": "stdout"
        }
      ]
    },
    {
      "cell_type": "code",
      "metadata": {
        "colab": {
          "base_uri": "https://localhost:8080/"
        },
        "id": "RFdn8VAhpIJU",
        "outputId": "09a24a67-d47a-4c74-a83c-64b445680558"
      },
      "source": [
        "#  here we print out everything on the sixth axis (rows), the second on the second axis (columns)\n",
        "Flux_i = data[:, 5] \n",
        "print('maximum flux in i band is:', np.nanmax(Flux_i))"
      ],
      "execution_count": 133,
      "outputs": [
        {
          "output_type": "stream",
          "text": [
            "maximum flux in i band is: 694.11\n"
          ],
          "name": "stdout"
        }
      ]
    },
    {
      "cell_type": "code",
      "metadata": {
        "colab": {
          "base_uri": "https://localhost:8080/"
        },
        "id": "JzLJ8lG-oqzo",
        "outputId": "3bc745f3-81ca-4314-da14-4e2b4f8d602d"
      },
      "source": [
        "# here we print ou the minimum and maximum brightness and the standard deviation in z band meanwhile we are avoiding our program to return a NaN \n",
        "maxval, minval, stdval = np.nanmax(data[:,7]), np.nanmin(data[:,7]), np.nanstd(data[:,7])\n",
        "\n",
        "print('maximum flux in z band:', maxval)\n",
        "print('minimum flux in z band :', minval)\n",
        "print('standard deviation in  band:', stdval)"
      ],
      "execution_count": 134,
      "outputs": [
        {
          "output_type": "stream",
          "text": [
            "maximum flux in z band: 669.74\n",
            "minimum flux in z band : -117.01\n",
            "standard deviation in  band: 248.86924914197414\n"
          ],
          "name": "stdout"
        }
      ]
    },
    {
      "cell_type": "code",
      "metadata": {
        "colab": {
          "base_uri": "https://localhost:8080/"
        },
        "id": "K4P_Kf3UXSx5",
        "outputId": "465f306e-f166-4e55-cd66-122a74877bda"
      },
      "source": [
        "# here we print out everything on the eighth axis (rows), the second on the second axis (columns)\n",
        "print('maximum flux in z band is:', np.nanmax(data[:,7]))"
      ],
      "execution_count": 135,
      "outputs": [
        {
          "output_type": "stream",
          "text": [
            "maximum flux in z band is: 669.74\n"
          ],
          "name": "stdout"
        }
      ]
    },
    {
      "cell_type": "code",
      "metadata": {
        "colab": {
          "base_uri": "https://localhost:8080/"
        },
        "id": "pLjhHTIEXu0e",
        "outputId": "2423d88a-34ec-44c8-c11f-599665bf6105"
      },
      "source": [
        "# Average axis=0\n",
        "print(np.nanmean(data, axis=0))\n"
      ],
      "execution_count": 136,
      "outputs": [
        {
          "output_type": "stream",
          "text": [
            "[5.29537333e+04 2.70966600e+01 8.93325833e+00 8.81428870e+01\n",
            " 1.79726304e+01 2.19487541e+02 2.21493182e+01 2.12659100e+02\n",
            " 8.72582000e+01]\n"
          ],
          "name": "stdout"
        }
      ]
    },
    {
      "cell_type": "code",
      "metadata": {
        "colab": {
          "base_uri": "https://localhost:8080/"
        },
        "id": "8Bp35o-2aavs",
        "outputId": "1cdc9ba0-1ba8-4726-ef02-7301566a0476"
      },
      "source": [
        "print(np.nanmean(data, axis=0).shape)"
      ],
      "execution_count": 137,
      "outputs": [
        {
          "output_type": "stream",
          "text": [
            "(9,)\n"
          ],
          "name": "stdout"
        }
      ]
    },
    {
      "cell_type": "code",
      "metadata": {
        "colab": {
          "base_uri": "https://localhost:8080/"
        },
        "id": "MkMvQYjWafqM",
        "outputId": "c8b315c0-5670-4864-8e2e-d2394063a4a2"
      },
      "source": [
        "# print out the average flux for each day of observations\n",
        "print(np.nanmean(data, axis=1))"
      ],
      "execution_count": 138,
      "outputs": [
        {
          "output_type": "stream",
          "text": [
            "[17632.98653333  7575.3231     17698.63166667  6096.78833333\n",
            " 10805.7194     17675.6282     10679.66126    17844.57466667\n",
            " 17886.76833333 17834.26766667 17715.17133333 17815.58333333\n",
            " 17733.323      17745.232      17656.6886     10603.00858\n",
            " 17726.41233333 17738.173      17656.813      10603.15024\n",
            " 17714.59566667 10605.07756    17829.39166667 17707.219\n",
            " 10627.864024   10639.597      17680.86066667 10592.41578\n",
            " 17716.579      10618.68462    10644.568      17656.40233333\n",
            " 17713.24333333 17694.271      17665.9363     10614.45912\n",
            " 17657.4151     10617.7514     10607.45926    10600.11122\n",
            " 17700.52266667 17693.58566667 17682.77366667 17688.33033333\n",
            " 17699.406      17682.31833333 17699.182      17681.51553333]\n"
          ],
          "name": "stdout"
        }
      ]
    },
    {
      "cell_type": "code",
      "metadata": {
        "colab": {
          "base_uri": "https://localhost:8080/"
        },
        "id": "efbHUPTfasnP",
        "outputId": "1bff3f12-37ef-4a06-efa4-035ae452f4fa"
      },
      "source": [
        "#comparison between a numpy array and a float or integer which returns a Boolean array.\n",
        "index = data[:,1] > 100\n",
        "print(index)"
      ],
      "execution_count": 139,
      "outputs": [
        {
          "output_type": "stream",
          "text": [
            "[False False False  True False  True False False False False False False\n",
            " False False False False False False False False False False False False\n",
            " False False False False False False False False False False False False\n",
            " False False False False False False False False False False False False]\n"
          ],
          "name": "stdout"
        }
      ]
    },
    {
      "cell_type": "code",
      "metadata": {
        "colab": {
          "base_uri": "https://localhost:8080/"
        },
        "id": "y-s2jF2rgRJN",
        "outputId": "9be91e6f-3617-4c11-ee3b-8e4264054ade"
      },
      "source": [
        "# to have the total of true index\n",
        "np.sum(index)"
      ],
      "execution_count": 140,
      "outputs": [
        {
          "output_type": "execute_result",
          "data": {
            "text/plain": [
              "2"
            ]
          },
          "metadata": {
            "tags": []
          },
          "execution_count": 140
        }
      ]
    },
    {
      "cell_type": "code",
      "metadata": {
        "colab": {
          "base_uri": "https://localhost:8080/"
        },
        "id": "iCwH9D_FgrbF",
        "outputId": "a6509246-52ae-43e2-a450-155c83088c19"
      },
      "source": [
        "# print out these indexes and add 200 to indexes in axis 1\n",
        "print(data[:,1][index])\n",
        "print(data[:,1][index]+200.)\n",
        "print(data[:,0][index])"
      ],
      "execution_count": 141,
      "outputs": [
        {
          "output_type": "stream",
          "text": [
            "[142.8  114.73]\n",
            "[342.8  314.73]\n",
            "[52900.5 52904.6]\n"
          ],
          "name": "stdout"
        }
      ]
    },
    {
      "cell_type": "code",
      "metadata": {
        "colab": {
          "base_uri": "https://localhost:8080/"
        },
        "id": "5bHA6fJshOcN",
        "outputId": "92fd44c3-247b-4b57-df4f-702ed700c269"
      },
      "source": [
        "# Using numpy to create an array with zero\n",
        "np.zeros(5)"
      ],
      "execution_count": 142,
      "outputs": [
        {
          "output_type": "execute_result",
          "data": {
            "text/plain": [
              "array([0., 0., 0., 0., 0.])"
            ]
          },
          "metadata": {
            "tags": []
          },
          "execution_count": 142
        }
      ]
    },
    {
      "cell_type": "code",
      "metadata": {
        "colab": {
          "base_uri": "https://localhost:8080/"
        },
        "id": "MMwbeZ0_hxp9",
        "outputId": "083e9734-05b6-466c-c1a3-a0a7bb4e966d"
      },
      "source": [
        "#by default the type is float but now let's create an array of int type\n",
        "np.zeros(5, dtype=int)\n",
        "#np.zeros(5, dtype=bool)"
      ],
      "execution_count": 143,
      "outputs": [
        {
          "output_type": "execute_result",
          "data": {
            "text/plain": [
              "array([0, 0, 0, 0, 0])"
            ]
          },
          "metadata": {
            "tags": []
          },
          "execution_count": 143
        }
      ]
    },
    {
      "cell_type": "code",
      "metadata": {
        "colab": {
          "base_uri": "https://localhost:8080/"
        },
        "id": "rWr6cR6CiLfy",
        "outputId": "5e1cdd99-f539-4cb6-c23b-232e1a2f8e74"
      },
      "source": [
        "# an array in boolean type\n",
        "np.zeros(5, dtype=bool)"
      ],
      "execution_count": 144,
      "outputs": [
        {
          "output_type": "execute_result",
          "data": {
            "text/plain": [
              "array([False, False, False, False, False])"
            ]
          },
          "metadata": {
            "tags": []
          },
          "execution_count": 144
        }
      ]
    },
    {
      "cell_type": "code",
      "metadata": {
        "colab": {
          "base_uri": "https://localhost:8080/"
        },
        "id": "1zJ5YuihiVjL",
        "outputId": "0ac26551-980c-4255-b5b0-b5ce3fbaf509"
      },
      "source": [
        "np.isnan(data[:,1])"
      ],
      "execution_count": 145,
      "outputs": [
        {
          "output_type": "execute_result",
          "data": {
            "text/plain": [
              "array([False,  True,  True, False,  True, False, False,  True,  True,\n",
              "        True,  True,  True,  True,  True,  True, False,  True,  True,\n",
              "        True, False,  True, False,  True,  True, False,  True,  True,\n",
              "       False,  True, False,  True,  True,  True,  True,  True,  True,\n",
              "       False,  True,  True, False,  True,  True,  True,  True,  True,\n",
              "        True,  True,  True])"
            ]
          },
          "metadata": {
            "tags": []
          },
          "execution_count": 145
        }
      ]
    },
    {
      "cell_type": "code",
      "metadata": {
        "colab": {
          "base_uri": "https://localhost:8080/",
          "height": 265
        },
        "id": "mBvQsq0J1_DC",
        "outputId": "31d60861-1739-4983-a979-e05f249357c1"
      },
      "source": [
        "std_plot = plt.plot(np.nanstd(data[:,1:], axis=0))\n",
        "plt.show()"
      ],
      "execution_count": 146,
      "outputs": [
        {
          "output_type": "display_data",
          "data": {
            "image/png": "[encoded data removed]",
            "text/plain": [
              "<Figure size 432x288 with 1 Axes>"
            ]
          },
          "metadata": {
            "tags": [],
            "needs_background": "light"
          }
        }
      ]
    },
    {
      "cell_type": "code",
      "metadata": {
        "colab": {
          "base_uri": "https://localhost:8080/",
          "height": 265
        },
        "id": "EzJEYEOu55zN",
        "outputId": "9b9225d6-6b05-49d9-d897-cfe872c45a89"
      },
      "source": [
        "std_plot = plt.plot(np.nanstd(data[:,2:], axis=1))\n",
        "plt.show()"
      ],
      "execution_count": 147,
      "outputs": [
        {
          "output_type": "display_data",
          "data": {
            "image/png": "[encoded data removed]",
            "text/plain": [
              "<Figure size 432x288 with 1 Axes>"
            ]
          },
          "metadata": {
            "tags": [],
            "needs_background": "light"
          }
        }
      ]
    },
    {
      "cell_type": "code",
      "metadata": {
        "colab": {
          "base_uri": "https://localhost:8080/",
          "height": 298
        },
        "id": "ScsaD2QC59ti",
        "outputId": "01f9c67e-023f-4bec-ef58-55f6ef40c5fa"
      },
      "source": [
        "std_plot = plt.plot(np.nanstd(data[:,4:], axis=1))\n",
        "plt.show()"
      ],
      "execution_count": 148,
      "outputs": [
        {
          "output_type": "stream",
          "text": [
            "/usr/local/lib/python3.7/dist-packages/numpy/lib/nanfunctions.py:1665: RuntimeWarning: Degrees of freedom <= 0 for slice.\n",
            "  keepdims=keepdims)\n"
          ],
          "name": "stderr"
        },
        {
          "output_type": "display_data",
          "data": {
            "image/png": "[encoded data removed]",
            "text/plain": [
              "<Figure size 432x288 with 1 Axes>"
            ]
          },
          "metadata": {
            "tags": [],
            "needs_background": "light"
          }
        }
      ]
    },
    {
      "cell_type": "code",
      "metadata": {
        "colab": {
          "base_uri": "https://localhost:8080/",
          "height": 265
        },
        "id": "QSAPBPxollYE",
        "outputId": "71f18e17-f276-4c4f-aca4-55ea9aac1c66"
      },
      "source": [
        "ave_flux = np.nanmean(data[:,1:], axis=1)\n",
        "mjd = data[:,0]\n",
        "ave_plot = plt.plot(mjd, ave_flux)\n",
        "plt.show()"
      ],
      "execution_count": 149,
      "outputs": [
        {
          "output_type": "display_data",
          "data": {
            "image/png": "[encoded data removed]",
            "text/plain": [
              "<Figure size 432x288 with 1 Axes>"
            ]
          },
          "metadata": {
            "tags": [],
            "needs_background": "light"
          }
        }
      ]
    },
    {
      "cell_type": "code",
      "metadata": {
        "colab": {
          "base_uri": "https://localhost:8080/",
          "height": 265
        },
        "id": "Peq76wyulPcK",
        "outputId": "ac5aca89-bc20-440c-d4fd-7d098fc239e3"
      },
      "source": [
        "plt.plot(mjd,data[:,1],'o', color='blue')\n",
        "plt.plot(mjd,data[:,3],'o', color='green')\n",
        "plt.plot(mjd,data[:,5],'o', color='yellow')\n",
        "plt.plot(mjd,data[:,7],'o', color='red')\n",
        "plt.show()"
      ],
      "execution_count": 150,
      "outputs": [
        {
          "output_type": "display_data",
          "data": {
            "image/png": "[encoded data removed]",
            "text/plain": [
              "<Figure size 432x288 with 1 Axes>"
            ]
          },
          "metadata": {
            "tags": [],
            "needs_background": "light"
          }
        }
      ]
    },
    {
      "cell_type": "code",
      "metadata": {
        "colab": {
          "base_uri": "https://localhost:8080/",
          "height": 136
        },
        "id": "B8_ldIfI-Aqh",
        "outputId": "fd37da7f-fd38-480a-d66c-61f8e76db2aa"
      },
      "source": [
        "df=pd.DataFrame({\"A\":[1.2,'1.2','a'],\"B\":['2020-10-2 10:00:00','2020-10-2 11:00:00','2020-10-2 12:00:00']})\n",
        "df.astype(float, errors='ignore')"
      ],
      "execution_count": 151,
      "outputs": [
        {
          "output_type": "execute_result",
          "data": {
            "text/html": [
              "<div>\n",
              "<style scoped>\n",
              "    .dataframe tbody tr th:only-of-type {\n",
              "        vertical-align: middle;\n",
              "    }\n",
              "\n",
              "    .dataframe tbody tr th {\n",
              "        vertical-align: top;\n",
              "    }\n",
              "\n",
              "    .dataframe thead th {\n",
              "        text-align: right;\n",
              "    }\n",
              "</style>\n",
              "<table border=\"1\" class=\"dataframe\">\n",
              "  <thead>\n",
              "    <tr style=\"text-align: right;\">\n",
              "      <th></th>\n",
              "      <th>A</th>\n",
              "      <th>B</th>\n",
              "    </tr>\n",
              "  </thead>\n",
              "  <tbody>\n",
              "    <tr>\n",
              "      <th>0</th>\n",
              "      <td>1.2</td>\n",
              "      <td>2020-10-2 10:00:00</td>\n",
              "    </tr>\n",
              "    <tr>\n",
              "      <th>1</th>\n",
              "      <td>1.2</td>\n",
              "      <td>2020-10-2 11:00:00</td>\n",
              "    </tr>\n",
              "    <tr>\n",
              "      <th>2</th>\n",
              "      <td>a</td>\n",
              "      <td>2020-10-2 12:00:00</td>\n",
              "    </tr>\n",
              "  </tbody>\n",
              "</table>\n",
              "</div>"
            ],
            "text/plain": [
              "     A                   B\n",
              "0  1.2  2020-10-2 10:00:00\n",
              "1  1.2  2020-10-2 11:00:00\n",
              "2    a  2020-10-2 12:00:00"
            ]
          },
          "metadata": {
            "tags": []
          },
          "execution_count": 151
        }
      ]
    },
    {
      "cell_type": "code",
      "metadata": {
        "colab": {
          "base_uri": "https://localhost:8080/",
          "height": 729
        },
        "id": "wYeFiDvF6OrE",
        "outputId": "93296268-9d86-49d0-9795-cedfec10d1b2"
      },
      "source": [
        "\n",
        "data= np.loadtxt(fname='/content/drive/MyDrive/swc-python/data/03D1ar.csv', delimiter=',', skiprows=1) \n",
        "# change figsize (swap width and height)\n",
        "fig = plt.figure(figsize=(3.0, 10.0))\n",
        "\n",
        "# change add_subplot (swap first two parameters)\n",
        "axes1 = fig.add_subplot(3, 1, 1)\n",
        "axes2 = fig.add_subplot(3, 1, 2)\n",
        "axes3 = fig.add_subplot(3, 1, 3)\n",
        "\n",
        "axes1.set_ylabel('average')\n",
        "axes1.plot(np.mean(data, axis=0))\n",
        "\n",
        "axes2.set_ylabel('max')\n",
        "axes2.plot(np.max(data, axis=0))\n",
        "\n",
        "axes3.set_ylabel('min')\n",
        "axes3.plot(np.min(data, axis=0))\n",
        "\n",
        "fig.tight_layout()\n",
        "\n",
        "plt.show()"
      ],
      "execution_count": 152,
      "outputs": [
        {
          "output_type": "display_data",
          "data": {
            "image/png": "[encoded data removed]",
            "text/plain": [
              "<Figure size 216x720 with 3 Axes>"
            ]
          },
          "metadata": {
            "tags": [],
            "needs_background": "light"
          }
        }
      ]
    },
    {
      "cell_type": "code",
      "metadata": {
        "id": "b8E-vXD873Of",
        "colab": {
          "base_uri": "https://localhost:8080/"
        },
        "outputId": "09032ca9-ade8-488e-f514-da4a277c4e33"
      },
      "source": [
        "# A more automated approach\n",
        "min_data = np.min(data, axis=0)\n",
        "axes3.set_ylabel('min')\n",
        "axes3.plot(min_data)\n",
        "axes3.set_ylim(np.nanmin(min_data), np.nanmax(min_data) * 1.1)"
      ],
      "execution_count": 153,
      "outputs": [
        {
          "output_type": "execute_result",
          "data": {
            "text/plain": [
              "(52880.5, 58168.55)"
            ]
          },
          "metadata": {
            "tags": []
          },
          "execution_count": 153
        }
      ]
    },
    {
      "cell_type": "code",
      "metadata": {
        "colab": {
          "base_uri": "https://localhost:8080/"
        },
        "id": "ykQKiy6UCSME",
        "outputId": "43a888a4-404c-481b-82a7-40686ba93dd2"
      },
      "source": [
        "# One method\n",
        "axes3.set_ylabel('min')\n",
        "axes3.plot(np.min(data, axis=0))\n",
        "axes3.set_ylim(0,6)"
      ],
      "execution_count": 154,
      "outputs": [
        {
          "output_type": "execute_result",
          "data": {
            "text/plain": [
              "(0.0, 6.0)"
            ]
          },
          "metadata": {
            "tags": []
          },
          "execution_count": 154
        }
      ]
    },
    {
      "cell_type": "code",
      "metadata": {
        "colab": {
          "base_uri": "https://localhost:8080/",
          "height": 265
        },
        "id": "F5HbJn8xC4I6",
        "outputId": "261de40c-e4c2-4bb9-9926-c1d12623382a"
      },
      "source": [
        "std_plot = plt.plot(np.nanstd(data[:,1:], axis=0))\n",
        "plt.show()"
      ],
      "execution_count": 155,
      "outputs": [
        {
          "output_type": "display_data",
          "data": {
            "image/png": "[encoded data removed]",
            "text/plain": [
              "<Figure size 432x288 with 1 Axes>"
            ]
          },
          "metadata": {
            "tags": [],
            "needs_background": "light"
          }
        }
      ]
    },
    {
      "cell_type": "code",
      "metadata": {
        "colab": {
          "base_uri": "https://localhost:8080/"
        },
        "id": "w6P6btKbDUiS",
        "outputId": "28cd6a7b-5866-4be9-c1da-0706caa81121"
      },
      "source": [
        "A = np.array([[1,2,3], [4,5,6], [7, 8, 9]])\n",
        "print('A = ')\n",
        "print(A)\n",
        "\n",
        "B = np.hstack([A, A])\n",
        "print('B = ', + B)\n",
        "#print(B)\n",
        "\n",
        "C = np.vstack([A, A])\n",
        "print('C = ', + C)\n",
        "print(C)"
      ],
      "execution_count": 156,
      "outputs": [
        {
          "output_type": "stream",
          "text": [
            "A = \n",
            "[[1 2 3]\n",
            " [4 5 6]\n",
            " [7 8 9]]\n",
            "B =  [[1 2 3 1 2 3]\n",
            " [4 5 6 4 5 6]\n",
            " [7 8 9 7 8 9]]\n",
            "C =  [[1 2 3]\n",
            " [4 5 6]\n",
            " [7 8 9]\n",
            " [1 2 3]\n",
            " [4 5 6]\n",
            " [7 8 9]]\n",
            "[[1 2 3]\n",
            " [4 5 6]\n",
            " [7 8 9]\n",
            " [1 2 3]\n",
            " [4 5 6]\n",
            " [7 8 9]]\n"
          ],
          "name": "stdout"
        }
      ]
    },
    {
      "cell_type": "code",
      "metadata": {
        "colab": {
          "base_uri": "https://localhost:8080/"
        },
        "id": "prnFPm2XX-14",
        "outputId": "bde9a5ad-cb68-43ec-a5d8-7720c8db9ba2"
      },
      "source": [
        "D = np.hstack((A[:, :1], A[:, -1:]))\n",
        "print('D = ')\n",
        "print(D)"
      ],
      "execution_count": 157,
      "outputs": [
        {
          "output_type": "stream",
          "text": [
            "D = \n",
            "[[1 3]\n",
            " [4 6]\n",
            " [7 9]]\n"
          ],
          "name": "stdout"
        }
      ]
    },
    {
      "cell_type": "code",
      "metadata": {
        "colab": {
          "base_uri": "https://localhost:8080/"
        },
        "id": "8L22P710RjVm",
        "outputId": "57da518b-cbc8-446b-a280-247ee24f7abb"
      },
      "source": [
        "D = np.delete(A, 1, 1)\n",
        "print('D = ')\n",
        "print(D)"
      ],
      "execution_count": 158,
      "outputs": [
        {
          "output_type": "stream",
          "text": [
            "D = \n",
            "[[1 3]\n",
            " [4 6]\n",
            " [7 9]]\n"
          ],
          "name": "stdout"
        }
      ]
    },
    {
      "cell_type": "code",
      "metadata": {
        "colab": {
          "base_uri": "https://localhost:8080/"
        },
        "id": "uEytuWE2Rw7S",
        "outputId": "62b2b211-1bcf-46b5-bf2c-33adc8bf1946"
      },
      "source": [
        "# The difference into an array\n",
        "arr = [0, 2, 5, 9, 14]\n",
        "diff_arr = np.diff(arr)\n",
        "print(diff_arr)"
      ],
      "execution_count": 159,
      "outputs": [
        {
          "output_type": "stream",
          "text": [
            "[2 3 4 5]\n"
          ],
          "name": "stdout"
        }
      ]
    },
    {
      "cell_type": "code",
      "metadata": {
        "colab": {
          "base_uri": "https://localhost:8080/"
        },
        "id": "ebGtRkmVZWQJ",
        "outputId": "3a71a445-549b-4f12-bf88-592f6c63bedd"
      },
      "source": [
        "#numpy.diff() function, you will get the largest difference between days\n",
        "np.max(np.diff(data, axis=1), axis=1)"
      ],
      "execution_count": 160,
      "outputs": [
        {
          "output_type": "execute_result",
          "data": {
            "text/plain": [
              "array([    nan,     nan,     nan, 637.101,     nan,     nan,     nan,\n",
              "           nan,     nan,     nan,     nan,     nan,     nan,     nan,\n",
              "           nan,     nan,     nan,     nan,     nan,     nan,     nan,\n",
              "           nan,     nan,     nan,     nan,     nan,     nan,     nan,\n",
              "           nan,     nan,     nan,     nan,     nan,     nan,     nan,\n",
              "           nan,     nan,     nan,     nan,     nan,     nan,     nan,\n",
              "           nan,     nan,     nan,     nan,     nan,     nan])"
            ]
          },
          "metadata": {
            "tags": []
          },
          "execution_count": 160
        }
      ]
    },
    {
      "cell_type": "code",
      "metadata": {
        "colab": {
          "base_uri": "https://localhost:8080/"
        },
        "id": "UkzIX3olbaWX",
        "outputId": "bf5f345d-75db-4589-e078-62d5bee9d48a"
      },
      "source": [
        "#the numpy.absolute() function can provide the magnitude of the change not the direction.\n",
        "np.max(np.absolute(np.diff(data, axis=1)), axis=1)\n"
      ],
      "execution_count": 161,
      "outputs": [
        {
          "output_type": "execute_result",
          "data": {
            "text/plain": [
              "array([    nan,     nan,     nan, 52757.7,     nan,     nan,     nan,\n",
              "           nan,     nan,     nan,     nan,     nan,     nan,     nan,\n",
              "           nan,     nan,     nan,     nan,     nan,     nan,     nan,\n",
              "           nan,     nan,     nan,     nan,     nan,     nan,     nan,\n",
              "           nan,     nan,     nan,     nan,     nan,     nan,     nan,\n",
              "           nan,     nan,     nan,     nan,     nan,     nan,     nan,\n",
              "           nan,     nan,     nan,     nan,     nan,     nan])"
            ]
          },
          "metadata": {
            "tags": []
          },
          "execution_count": 161
        }
      ]
    }
  ]
}